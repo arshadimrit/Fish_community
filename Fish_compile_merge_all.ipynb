{
 "cells": [
  {
   "cell_type": "code",
   "execution_count": 1,
   "metadata": {},
   "outputs": [],
   "source": [
    "import pandas as pd\n",
    "import numpy as np\n",
    "import matplotlib.pyplot as graph\n",
    "import seaborn as sns\n",
    "\n",
    "import cartopy.crs as ccrs\n",
    "\n",
    "import statsmodels\n",
    "\n",
    "import os\n",
    "from tqdm import tqdm, trange\n",
    "\n",
    "from convertbng.util import convert_bng, convert_lonlat\n",
    "import utm"
   ]
  },
  {
   "cell_type": "code",
   "execution_count": null,
   "metadata": {},
   "outputs": [],
   "source": [
    "import re\n",
    "\n",
    "def dms2dd(s):\n",
    "    # example: s = \"\"\"0°51'56.29\"S\"\"\"\n",
    "    degrees, minutes, seconds, direction = re.split('[°\\'\"]+', s)\n",
    "    dd = float(degrees) + float(minutes)/60 + float(seconds)/(60*60);\n",
    "    if direction in ('S','W'):\n",
    "        dd*= -1\n",
    "    return dd"
   ]
  },
  {
   "cell_type": "code",
   "execution_count": null,
   "metadata": {},
   "outputs": [],
   "source": [
    "# code and species dictionary\n",
    "\n",
    "code_df = pd.read_csv('/mnt/c/Users/imrit/Downloads/Sharma_fish_project/Alberta/To_look_at/Banff_NP_Freshwater_Lake_Fish_Index_2017_data_dictionary.csv')\n",
    "# code_df = code_df.iloc[:-6]\n",
    "code_df.rename(columns={'Data_Value_Valeur_de_la_donnée': 'code_name', \n",
    "                        'Value_Description_EN_Description_de_la_valeur': 'common_name'}, inplace=True)\n",
    "code_df = code_df[['code_name', 'common_name']]\n",
    "code_df['common_name'] = code_df['common_name'].str.lower().str.replace(' ', '_')\n",
    "display(code_df.sample(5))\n",
    "\n",
    "dict_code_name = code_df.set_index('code_name').to_dict()['common_name']"
   ]
  },
  {
   "cell_type": "code",
   "execution_count": null,
   "metadata": {},
   "outputs": [],
   "source": [
    "new_codes = {'LNDC': 'longnose_dace', 'BNTR': 'brown_trout', 'RNTR1': 'rainbow_trout', 'CTTR1': 'cutthroat_trout', \n",
    "             'WHSC': 'white_sucker', 'BLTRCTTR(N&I)': 'bull_trout_x_cutthroat_trout', 'CTTR(hybrids)': 'cutthroat_trout', \n",
    "             'CTTRhybrids': 'cutthroat_trout', 'SUCK': 'white_sucker'}\n",
    "\n",
    "dict_code_name.update(new_codes)"
   ]
  },
  {
   "cell_type": "code",
   "execution_count": null,
   "metadata": {},
   "outputs": [],
   "source": [
    "# Species dictionay\n",
    "\n",
    "species_name_df = pd.read_csv('/mnt/c/Users/imrit/Downloads/Sharma_fish_project/species_name_dictionary.csv')\n",
    "\n",
    "dict_species_name = species_name_df.set_index('common_name').to_dict()['scientific_name']"
   ]
  },
  {
   "cell_type": "code",
   "execution_count": null,
   "metadata": {},
   "outputs": [],
   "source": [
    "species_name_df = pd.DataFrame.from_dict({'common_name': list(dict_species_name.keys()), \n",
    "                                        'scientific_name' : list(dict_species_name.values())})\n",
    "# species_name_df.to_csv('/mnt/c/Users/imrit/Downloads/Sharma_fish_project/species_name_dictionary.csv', index=False)"
   ]
  },
  {
   "cell_type": "markdown",
   "metadata": {},
   "source": [
    "### Column names dict"
   ]
  },
  {
   "cell_type": "code",
   "execution_count": 16,
   "metadata": {},
   "outputs": [],
   "source": [
    "# df_col_names.to_csv('/mnt/c/Users/imrit/Downloads/Sharma_fish_project/merged_col_names_dict.csv', index=False)\n",
    "df_col_names = pd.read_csv('/mnt/c/Users/imrit/Downloads/Sharma_fish_project/merged_col_names_dict.csv')\n",
    "dict_col_names = dict(zip(df_col_names['used_col_names'], df_col_names['to_use_col_names']))"
   ]
  },
  {
   "cell_type": "markdown",
   "metadata": {},
   "source": [
    "# Merge Data"
   ]
  },
  {
   "cell_type": "code",
   "execution_count": 9,
   "metadata": {},
   "outputs": [
    {
     "name": "stderr",
     "output_type": "stream",
     "text": [
      "100%|██████████| 67/67 [26:57<00:00, 24.15s/it]   \n"
     ]
    }
   ],
   "source": [
    "path = '/mnt/c/Users/imrit/Downloads/Sharma_fish_project/Master_compilation/All_files_with_year_lat_long/'\n",
    "\n",
    "df_list = []\n",
    "for file in tqdm(os.listdir(path)):\n",
    "    df_temp = pd.read_csv(f'{path}{file}')\n",
    "    df_temp.rename(columns=dict_col_names, inplace=True)\n",
    "    df_temp['latitude'] = df_temp['latitude'].astype(float)\n",
    "    df_temp['longitude'] = df_temp['longitude'].astype(float)\n",
    "    df_temp = df_temp.sum(axis=1, level=0)\n",
    "    df_temp = df_temp.T.drop_duplicates()\n",
    "    df_temp = df_temp.T\n",
    "\n",
    "    df_list.append(df_temp)"
   ]
  },
  {
   "cell_type": "code",
   "execution_count": 10,
   "metadata": {},
   "outputs": [
    {
     "name": "stdout",
     "output_type": "stream",
     "text": [
      "CPU times: user 1min 29s, sys: 52.1 s, total: 2min 21s\n",
      "Wall time: 2min 32s\n"
     ]
    }
   ],
   "source": [
    "%%time\n",
    "df = pd.concat(df_list, sort=False)"
   ]
  },
  {
   "cell_type": "code",
   "execution_count": 11,
   "metadata": {},
   "outputs": [],
   "source": [
    "# df.to_csv('/mnt/c/Users/imrit/Downloads/Sharma_fish_project/merged_dfs_jan_14.csv', index=False)"
   ]
  },
  {
   "cell_type": "code",
   "execution_count": null,
   "metadata": {},
   "outputs": [],
   "source": [
    "df['remove_please']"
   ]
  },
  {
   "cell_type": "code",
   "execution_count": null,
   "metadata": {},
   "outputs": [],
   "source": [
    "print(len(df))\n",
    "df.drop(columns=['remove_please'], inplace=True)\n",
    "df = df.loc[(df['latitude'] > 12) & (df['longitude'] < -30)]\n",
    "df.drop_duplicates(inplace=True)\n",
    "print(len(df))\n",
    "\n",
    "display(df.head(5))"
   ]
  },
  {
   "cell_type": "code",
   "execution_count": null,
   "metadata": {},
   "outputs": [],
   "source": [
    "display(df.head(5))"
   ]
  },
  {
   "cell_type": "code",
   "execution_count": 12,
   "metadata": {
    "scrolled": false
   },
   "outputs": [
    {
     "name": "stderr",
     "output_type": "stream",
     "text": [
      "/home/arshad/miniconda3/lib/python3.7/site-packages/ipykernel_launcher.py:2: FutureWarning: The signature of `Series.to_csv` was aligned to that of `DataFrame.to_csv`, and argument 'header' will change its default value from False to True: please pass an explicit value to suppress this warning.\n",
      "  \n"
     ]
    }
   ],
   "source": [
    "df_col_names = pd.Series(sorted(df.columns))\n",
    "df_col_names.to_csv('/mnt/c/Users/imrit/Desktop/merged_cols_check_fish_df.csv', index=False)"
   ]
  },
  {
   "cell_type": "code",
   "execution_count": null,
   "metadata": {},
   "outputs": [],
   "source": []
  },
  {
   "cell_type": "code",
   "execution_count": null,
   "metadata": {},
   "outputs": [],
   "source": []
  },
  {
   "cell_type": "code",
   "execution_count": null,
   "metadata": {},
   "outputs": [],
   "source": []
  },
  {
   "cell_type": "code",
   "execution_count": null,
   "metadata": {},
   "outputs": [],
   "source": []
  },
  {
   "cell_type": "code",
   "execution_count": null,
   "metadata": {},
   "outputs": [],
   "source": [
    "%%time\n",
    "print(df['year'].min(), df['year'].max())\n",
    "for col in tqdm(df['SPECIES_NAME'].unique()):\n",
    "    df[col] = np.where(df.isin([col]).any(1), 1, np.nan)\n",
    "    df[col] = df[col].fillna(df.groupby(['year', 'lat_long'])[col].transform('mean'))\n",
    "\n",
    "display(df.sample(5))  "
   ]
  },
  {
   "cell_type": "code",
   "execution_count": 7,
   "metadata": {},
   "outputs": [
    {
     "data": {
      "text/plain": [
       "['AirTemp_8110',\n",
       " 'Area_ha',\n",
       " 'Chlorophyll-a (mgÂ·m-3)',\n",
       " 'Conductivity(uScms)',\n",
       " 'DD5_8110',\n",
       " 'Depth_Max',\n",
       " 'Depth_Mn',\n",
       " 'Dissolved Oxygen (mg/L)',\n",
       " 'SDF',\n",
       " 'Sal',\n",
       " 'Secchi_Su',\n",
       " 'TDS (mg/L)',\n",
       " 'Temp',\n",
       " 'Thermo_Obs',\n",
       " 'Thermo_Pred',\n",
       " 'Tide',\n",
       " 'TotalPhosphorus(ugL)',\n",
       " 'TrueColour_pctl',\n",
       " 'Water Bottom Depth (m)',\n",
       " 'Water Conductivity (ï¿½S/cm)',\n",
       " 'Water Temperature (C)',\n",
       " 'Water pH',\n",
       " 'air_temperature',\n",
       " 'area_(ha)',\n",
       " 'conductivity_(us/cm)',\n",
       " 'island_perimeter_(km)',\n",
       " 'lake_elevation_(m)',\n",
       " 'lat_long',\n",
       " 'latitude',\n",
       " 'longitude',\n",
       " 'maximum_depth_(m)',\n",
       " 'mean_depth',\n",
       " 'mei',\n",
       " 'o2',\n",
       " 'pH',\n",
       " 'pH_pctl',\n",
       " 'pLittoral',\n",
       " 'perimeter_(km)',\n",
       " 'ph',\n",
       " 'primary_bassin',\n",
       " 'secchi_depth_(m)',\n",
       " 'secondary_bassin',\n",
       " 'site_description',\n",
       " 'surface_area_(ha)',\n",
       " 'surface_water_temp',\n",
       " 'tds_(mg/l)',\n",
       " 'tide_stg',\n",
       " 'waterbody_name',\n",
       " 'year']"
      ]
     },
     "execution_count": 7,
     "metadata": {},
     "output_type": "execute_result"
    }
   ],
   "source": [
    "df_morphologies_list = pd.read_csv('/mnt/c/Users/imrit/Desktop/merged_cols_morphologies.csv', header=None)\n",
    "df_morphologies_list[0].to_list()"
   ]
  },
  {
   "cell_type": "code",
   "execution_count": null,
   "metadata": {},
   "outputs": [],
   "source": [
    "['AirTemp_8110', 'Area_ha', 'Chlorophyll-a (mgÂ·m-3)', 'Conductivity(uScms)', 'DD5_8110', 'Depth_Max', 'Depth_Mn',\n",
    " 'Dissolved Oxygen (mg/L)', 'SDF', 'Sal', 'Secchi_Su', 'TDS (mg/L)', 'Temp', 'Thermo_Obs', 'Thermo_Pred', 'Tide', \n",
    " 'TotalPhosphorus(ugL)', 'TrueColour_pctl', 'Water Bottom Depth (m)', 'Water Conductivity (ï¿½S/cm)', 'Water Temperature (C)', \n",
    " 'Water pH', 'air_temperature', 'area_(ha)', 'conductivity_(us/cm)', 'island_perimeter_(km)', 'lake_elevation_(m)', 'lat_long', \n",
    " 'latitude', 'longitude', 'maximum_depth_(m)', 'mean_depth', 'mei', 'o2', 'pH', 'pH_pctl', 'pLittoral', 'perimeter_(km)', 'ph', \n",
    " 'primary_bassin', 'secchi_depth_(m)', 'secondary_bassin', 'site_description', 'surface_area_(ha)', 'surface_water_temp', \n",
    " 'tds_(mg/l)', 'tide_stg', 'waterbody_name', 'year']"
   ]
  },
  {
   "cell_type": "markdown",
   "metadata": {},
   "source": [
    "## Ontario"
   ]
  },
  {
   "cell_type": "code",
   "execution_count": 39,
   "metadata": {},
   "outputs": [
    {
     "name": "stderr",
     "output_type": "stream",
     "text": [
      "/home/arshad/miniconda3/lib/python3.7/site-packages/ipykernel_launcher.py:8: FutureWarning: Sorting because non-concatenation axis is not aligned. A future version\n",
      "of pandas will change to not sort by default.\n",
      "\n",
      "To accept the future behavior, pass 'sort=False'.\n",
      "\n",
      "To retain the current behavior and silence the warning, pass 'sort=True'.\n",
      "\n",
      "  \n"
     ]
    },
    {
     "data": {
      "text/html": [
       "<div>\n",
       "<style scoped>\n",
       "    .dataframe tbody tr th:only-of-type {\n",
       "        vertical-align: middle;\n",
       "    }\n",
       "\n",
       "    .dataframe tbody tr th {\n",
       "        vertical-align: top;\n",
       "    }\n",
       "\n",
       "    .dataframe thead th {\n",
       "        text-align: right;\n",
       "    }\n",
       "</style>\n",
       "<table border=\"1\" class=\"dataframe\">\n",
       "  <thead>\n",
       "    <tr style=\"text-align: right;\">\n",
       "      <th></th>\n",
       "      <th>AirTemp_8110</th>\n",
       "      <th>Area_ha</th>\n",
       "      <th>Conductivity(uScms)</th>\n",
       "      <th>DD5_8110</th>\n",
       "      <th>Depth_Max</th>\n",
       "      <th>Depth_Mn</th>\n",
       "      <th>SDF</th>\n",
       "      <th>Secchi_Su</th>\n",
       "      <th>TDS (mg/L)</th>\n",
       "      <th>Thermo_Obs</th>\n",
       "      <th>...</th>\n",
       "      <th>semotius_spp</th>\n",
       "      <th>site_description</th>\n",
       "      <th>squalius_cephalus</th>\n",
       "      <th>stizostedion_spp</th>\n",
       "      <th>surface_area_(ha)</th>\n",
       "      <th>surface_water_temp</th>\n",
       "      <th>tds_(mg/l)</th>\n",
       "      <th>umbra_limi</th>\n",
       "      <th>waterbody_name</th>\n",
       "      <th>year</th>\n",
       "    </tr>\n",
       "  </thead>\n",
       "  <tbody>\n",
       "    <tr>\n",
       "      <th>5175</th>\n",
       "      <td>0.0</td>\n",
       "      <td>0.0</td>\n",
       "      <td>0.0</td>\n",
       "      <td>0.0</td>\n",
       "      <td>0.0</td>\n",
       "      <td>0.0</td>\n",
       "      <td>0.000000</td>\n",
       "      <td>0.0</td>\n",
       "      <td>0.000</td>\n",
       "      <td>0.0</td>\n",
       "      <td>...</td>\n",
       "      <td>0.0</td>\n",
       "      <td>2CD04</td>\n",
       "      <td>0.0</td>\n",
       "      <td>0.0</td>\n",
       "      <td>19.1</td>\n",
       "      <td>19.0</td>\n",
       "      <td>29.0</td>\n",
       "      <td>0.0</td>\n",
       "      <td>Three Loon L.</td>\n",
       "      <td>1984</td>\n",
       "    </tr>\n",
       "    <tr>\n",
       "      <th>2143</th>\n",
       "      <td>0.0</td>\n",
       "      <td>0.0</td>\n",
       "      <td>0.0</td>\n",
       "      <td>0.0</td>\n",
       "      <td>0.0</td>\n",
       "      <td>0.0</td>\n",
       "      <td>0.000000</td>\n",
       "      <td>0.0</td>\n",
       "      <td>0.000</td>\n",
       "      <td>0.0</td>\n",
       "      <td>...</td>\n",
       "      <td>0.0</td>\n",
       "      <td>4JF26</td>\n",
       "      <td>0.0</td>\n",
       "      <td>0.0</td>\n",
       "      <td>718.3</td>\n",
       "      <td>16.0</td>\n",
       "      <td>68.0</td>\n",
       "      <td>0.0</td>\n",
       "      <td>Fullerton L.</td>\n",
       "      <td>1972</td>\n",
       "    </tr>\n",
       "    <tr>\n",
       "      <th>792</th>\n",
       "      <td>0.0</td>\n",
       "      <td>0.0</td>\n",
       "      <td>0.0</td>\n",
       "      <td>0.0</td>\n",
       "      <td>0.0</td>\n",
       "      <td>0.0</td>\n",
       "      <td>0.000000</td>\n",
       "      <td>0.0</td>\n",
       "      <td>0.000</td>\n",
       "      <td>0.0</td>\n",
       "      <td>...</td>\n",
       "      <td>0.0</td>\n",
       "      <td>5QE01</td>\n",
       "      <td>0.0</td>\n",
       "      <td>0.0</td>\n",
       "      <td>1742.3</td>\n",
       "      <td>24.0</td>\n",
       "      <td>71.0</td>\n",
       "      <td>0.0</td>\n",
       "      <td>Goshawk L.</td>\n",
       "      <td>1981</td>\n",
       "    </tr>\n",
       "    <tr>\n",
       "      <th>647</th>\n",
       "      <td>0.0</td>\n",
       "      <td>0.0</td>\n",
       "      <td>0.0</td>\n",
       "      <td>0.0</td>\n",
       "      <td>0.0</td>\n",
       "      <td>0.0</td>\n",
       "      <td>0.000000</td>\n",
       "      <td>0.0</td>\n",
       "      <td>0.000</td>\n",
       "      <td>0.0</td>\n",
       "      <td>...</td>\n",
       "      <td>0.0</td>\n",
       "      <td>5QA05</td>\n",
       "      <td>0.0</td>\n",
       "      <td>0.0</td>\n",
       "      <td>11.3</td>\n",
       "      <td>19.8</td>\n",
       "      <td>21.0</td>\n",
       "      <td>0.0</td>\n",
       "      <td>Savitsky L.</td>\n",
       "      <td>1970</td>\n",
       "    </tr>\n",
       "    <tr>\n",
       "      <th>1160</th>\n",
       "      <td>5.9</td>\n",
       "      <td>1500.0</td>\n",
       "      <td>83.0</td>\n",
       "      <td>1959.0</td>\n",
       "      <td>42.7</td>\n",
       "      <td>15.8</td>\n",
       "      <td>5.303481</td>\n",
       "      <td>4.4</td>\n",
       "      <td>55.278</td>\n",
       "      <td>9.0</td>\n",
       "      <td>...</td>\n",
       "      <td>0.0</td>\n",
       "      <td>0</td>\n",
       "      <td>0.0</td>\n",
       "      <td>0.0</td>\n",
       "      <td>0.0</td>\n",
       "      <td>0.0</td>\n",
       "      <td>0.0</td>\n",
       "      <td>0.0</td>\n",
       "      <td>Black Donald L.</td>\n",
       "      <td>2009</td>\n",
       "    </tr>\n",
       "  </tbody>\n",
       "</table>\n",
       "<p>5 rows × 188 columns</p>\n",
       "</div>"
      ],
      "text/plain": [
       "      AirTemp_8110  Area_ha  Conductivity(uScms)  DD5_8110  Depth_Max  \\\n",
       "5175           0.0      0.0                  0.0       0.0        0.0   \n",
       "2143           0.0      0.0                  0.0       0.0        0.0   \n",
       "792            0.0      0.0                  0.0       0.0        0.0   \n",
       "647            0.0      0.0                  0.0       0.0        0.0   \n",
       "1160           5.9   1500.0                 83.0    1959.0       42.7   \n",
       "\n",
       "      Depth_Mn       SDF  Secchi_Su  TDS (mg/L)  Thermo_Obs  ...  \\\n",
       "5175       0.0  0.000000        0.0       0.000         0.0  ...   \n",
       "2143       0.0  0.000000        0.0       0.000         0.0  ...   \n",
       "792        0.0  0.000000        0.0       0.000         0.0  ...   \n",
       "647        0.0  0.000000        0.0       0.000         0.0  ...   \n",
       "1160      15.8  5.303481        4.4      55.278         9.0  ...   \n",
       "\n",
       "      semotius_spp  site_description  squalius_cephalus  stizostedion_spp  \\\n",
       "5175           0.0             2CD04                0.0               0.0   \n",
       "2143           0.0             4JF26                0.0               0.0   \n",
       "792            0.0             5QE01                0.0               0.0   \n",
       "647            0.0             5QA05                0.0               0.0   \n",
       "1160           0.0                 0                0.0               0.0   \n",
       "\n",
       "      surface_area_(ha)  surface_water_temp  tds_(mg/l)  umbra_limi  \\\n",
       "5175               19.1                19.0        29.0         0.0   \n",
       "2143              718.3                16.0        68.0         0.0   \n",
       "792              1742.3                24.0        71.0         0.0   \n",
       "647                11.3                19.8        21.0         0.0   \n",
       "1160                0.0                 0.0         0.0         0.0   \n",
       "\n",
       "       waterbody_name  year  \n",
       "5175    Three Loon L.  1984  \n",
       "2143     Fullerton L.  1972  \n",
       "792        Goshawk L.  1981  \n",
       "647       Savitsky L.  1970  \n",
       "1160  Black Donald L.  2009  \n",
       "\n",
       "[5 rows x 188 columns]"
      ]
     },
     "metadata": {},
     "output_type": "display_data"
    }
   ],
   "source": [
    "path = '/mnt/c/Users/imrit/Downloads/Sharma_fish_project/Master_compilation/Ontario/'\n",
    "\n",
    "df_list = []\n",
    "for file in os.listdir(path):\n",
    "    df = pd.read_csv(f'{path}{file}')\n",
    "    df_list.append(df)\n",
    "\n",
    "df = pd.concat(df_list)\n",
    "df.rename(columns=dict_col_names, inplace=True)\n",
    "df = df.sum(axis=1, level=0)\n",
    "\n",
    "display(df.sample(5))"
   ]
  },
  {
   "cell_type": "code",
   "execution_count": 42,
   "metadata": {
    "scrolled": false
   },
   "outputs": [],
   "source": [
    "morphologies_cols = ['AirTemp_8110', 'Area_ha', 'Chlorophyll-a (mgÂ·m-3)', 'Conductivity(uScms)', 'DD5_8110', 'Depth_Max', \n",
    "                     'Depth_Mn', 'Dissolved Oxygen (mg/L)', 'SDF', 'Sal', 'Secchi_Su', 'TDS (mg/L)', 'Temp', 'Thermo_Obs', \n",
    "                     'Thermo_Pred', 'Tide',  'TotalPhosphorus(ugL)', 'TrueColour_pctl', 'Water Bottom Depth (m)', \n",
    "                     'Water Conductivity (ï¿½S/cm)', 'Water Temperature (C)',  'Water pH', 'air_temperature', 'area_(ha)', \n",
    "                     'conductivity_(us/cm)', 'island_perimeter_(km)', 'lake_elevation_(m)', 'lat_long',  'latitude', \n",
    "                     'longitude', 'maximum_depth_(m)', 'mean_depth', 'mei', 'o2', 'pH', 'pH_pctl', 'pLittoral', \n",
    "                     'perimeter_(km)', 'ph',  'primary_bassin', 'secchi_depth_(m)', 'secondary_bassin', 'site_description', \n",
    "                     'surface_area_(ha)', 'surface_water_temp', 'tds_(mg/l)', 'tide_stg', 'waterbody_name', 'year', \n",
    "                     'Chlorophyll-a (mg·m-3)', 'Water Conductivity (�S/cm)', 'growing_degree_days']\n",
    "\n",
    "species_cols = [col for col in df.columns if col not in morphologies_cols]"
   ]
  },
  {
   "cell_type": "code",
   "execution_count": 43,
   "metadata": {
    "scrolled": false
   },
   "outputs": [
    {
     "name": "stderr",
     "output_type": "stream",
     "text": [
      "100%|██████████| 152/152 [00:01<00:00, 77.73it/s]\n"
     ]
    }
   ],
   "source": [
    "for col in tqdm(species_cols):\n",
    "    df[col] = df[col].replace(0, np.nan)\n",
    "    df[col] = np.where(df[col].notnull(), 1, np.nan)\n",
    "    df[col] = df[col].fillna(df.groupby(['year', 'lat_long'])[col].transform('mean'))"
   ]
  },
  {
   "cell_type": "code",
   "execution_count": 44,
   "metadata": {},
   "outputs": [],
   "source": [
    "col_vals = [col for col in df.columns if col not in ['secondary_bassin', 'site_description', 'waterbody_name', 'year', \n",
    "                                                     'lat_long', 'primary_bassin']]"
   ]
  },
  {
   "cell_type": "code",
   "execution_count": 45,
   "metadata": {},
   "outputs": [
    {
     "name": "stderr",
     "output_type": "stream",
     "text": [
      "100%|██████████| 184/184 [00:02<00:00, 78.61it/s]\n"
     ]
    }
   ],
   "source": [
    "for col in tqdm(col_vals):\n",
    "    df[col] = df[col].fillna(df.groupby(['year', 'lat_long'])[col].transform('mean'))"
   ]
  },
  {
   "cell_type": "code",
   "execution_count": 46,
   "metadata": {},
   "outputs": [
    {
     "name": "stdout",
     "output_type": "stream",
     "text": [
      "11290\n",
      "11281\n"
     ]
    }
   ],
   "source": [
    "print(len(df))\n",
    "df = df[df['year'] != 0]\n",
    "df.drop_duplicates(subset=df.columns.difference(['secondary_bassin', 'site_description', 'waterbody_name', 'primary_bassin']), \n",
    "                   inplace=True)\n",
    "print(len(df))"
   ]
  },
  {
   "cell_type": "code",
   "execution_count": 49,
   "metadata": {},
   "outputs": [],
   "source": [
    "df.to_csv('/mnt/c/Users/imrit/Desktop/ontario_1957_2017.csv', index=False)"
   ]
  },
  {
   "cell_type": "code",
   "execution_count": 48,
   "metadata": {},
   "outputs": [
    {
     "data": {
      "text/plain": [
       "2017"
      ]
     },
     "execution_count": 48,
     "metadata": {},
     "output_type": "execute_result"
    }
   ],
   "source": [
    "df['year'].max()"
   ]
  },
  {
   "cell_type": "code",
   "execution_count": null,
   "metadata": {},
   "outputs": [],
   "source": []
  }
 ],
 "metadata": {
  "kernelspec": {
   "display_name": "Python 3",
   "language": "python",
   "name": "python3"
  },
  "language_info": {
   "codemirror_mode": {
    "name": "ipython",
    "version": 3
   },
   "file_extension": ".py",
   "mimetype": "text/x-python",
   "name": "python",
   "nbconvert_exporter": "python",
   "pygments_lexer": "ipython3",
   "version": "3.7.6"
  }
 },
 "nbformat": 4,
 "nbformat_minor": 4
}
